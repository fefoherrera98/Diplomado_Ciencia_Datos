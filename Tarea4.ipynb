{
 "cells": [
  {
   "cell_type": "markdown",
   "id": "60aaf64b-b990-4224-897e-bfb794da6603",
   "metadata": {},
   "source": [
    "# Reconocimiento de enfermedades vegetales utilizando técnicas de inteligencia artificial"
   ]
  },
  {
   "cell_type": "markdown",
   "id": "326d35c6-2e61-4837-a174-4a980aaa91bb",
   "metadata": {},
   "source": [
    "## Objetivos"
   ]
  },
  {
   "cell_type": "markdown",
   "id": "817de840-74de-478c-8428-6357450cd264",
   "metadata": {},
   "source": [
    "Desarrollar un modelo de aprendizaje automático capaz de reconocer y clasificar enfermedades en plantas utilizando técnicas de visión por computadora."
   ]
  },
  {
   "cell_type": "markdown",
   "id": "3bf6ecb3-a347-40ee-b269-4bc569a8daa2",
   "metadata": {},
   "source": [
    "Mejorar la precisión y eficiencia del diagnóstico de enfermedades en plantas, permitiendo una intervención temprana y efectiva."
   ]
  },
  {
   "cell_type": "markdown",
   "id": "ad75292c-4c55-46ab-8620-5c20ba7b05e4",
   "metadata": {},
   "source": [
    "Proporcionar una herramienta confiable de detección y clasificación de enfermedades para apoyar la toma de decisiones de agricultores"
   ]
  },
  {
   "cell_type": "markdown",
   "id": "0f9684d8-176d-4d42-9081-8e0f32989807",
   "metadata": {},
   "source": [
    "## Problema"
   ]
  },
  {
   "cell_type": "markdown",
   "id": "6870b9ba-6bb0-4981-bf02-3839cca775e7",
   "metadata": {},
   "source": [
    "El diagnóstico preciso y oportuno de enfermedades en plantas es fundamental para la salud y productividad de los cultivos agrícolas. Sin embargo, la detección manual de enfermedades en plantas es un proceso laborioso y propenso a errores, lo que puede resultar en tratamientos ineficientes o tardíos, afectando negativamente la calidad y el rendimiento de los cultivos. El objetivo de este proyecto es desarrollar un sistema de reconocimiento de enfermedades en plantas utilizando técnicas de inteligencia artificial. La idea es que el sistema sea capaz de identificar y clasificar de manera precisa y rápida diferentes enfermedades, permitiendo una detección temprana y una intervención adecuada. Al implementar este sistema, se busca mejorar la eficiencia del diagnóstico, reducir los costos asociados con la detección manual y proporcionar a los agricultores una herramienta confiable para tomar decisiones informadas sobre el manejo de enfermedades en sus cultivos."
   ]
  },
  {
   "cell_type": "markdown",
   "id": "ecf702ac-2ab3-4b90-93c0-719ce0f847b5",
   "metadata": {},
   "source": [
    "## Datos"
   ]
  },
  {
   "cell_type": "markdown",
   "id": "1788d36f-1117-477b-af4c-2667b43cd95a",
   "metadata": {},
   "source": [
    "El conjunto de datos Plant Village es una colección amplia y diversa de imágenes de hojas de plantas afectadas por diversas enfermedades. Consta de más de 60000 imágenes etiquetadas y clasificadas en diferentes categorías, lo que lo convierte en uno de los conjuntos de datos más grandes y completos disponibles para la detección de enfermedades en plantas. Las imágenes en el conjunto de datos representan una variedad de cultivos y enfermedades vegetales. Además, el conjunto de datos también contiene imágenes de hojas sanas para establecer una referencia de comparación."
   ]
  }
 ],
 "metadata": {
  "kernelspec": {
   "display_name": "Python 3 (ipykernel)",
   "language": "python",
   "name": "python3"
  },
  "language_info": {
   "codemirror_mode": {
    "name": "ipython",
    "version": 3
   },
   "file_extension": ".py",
   "mimetype": "text/x-python",
   "name": "python",
   "nbconvert_exporter": "python",
   "pygments_lexer": "ipython3",
   "version": "3.9.13"
  }
 },
 "nbformat": 4,
 "nbformat_minor": 5
}
