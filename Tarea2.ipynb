{
 "cells": [
  {
   "cell_type": "markdown",
   "id": "e4f34e94-8a2e-4eca-9828-d7835cf7136d",
   "metadata": {},
   "source": [
    "# 1"
   ]
  },
  {
   "cell_type": "code",
   "execution_count": 12,
   "id": "0d41871d-5e31-4a07-a9f9-1aebd09ab9a8",
   "metadata": {},
   "outputs": [
    {
     "data": {
      "text/plain": [
       "32"
      ]
     },
     "execution_count": 12,
     "metadata": {},
     "output_type": "execute_result"
    }
   ],
   "source": [
    "from datetime import date\n",
    "\n",
    "def calculate_age(date_of_birth):\n",
    "    today = date.today()\n",
    "    birth_date = date.fromisoformat(date_of_birth)\n",
    "    age = today.year - birth_date.year - ((today.month, today.day) < (birth_date.month, birth_date.day))\n",
    "    return age\n",
    "\n",
    "calculate_age(\"1990-10-01\")"
   ]
  },
  {
   "cell_type": "markdown",
   "id": "a823d056-9a29-4dc1-8c4e-be1710994a9f",
   "metadata": {},
   "source": [
    "# 2"
   ]
  },
  {
   "cell_type": "code",
   "execution_count": 1,
   "id": "611fb9ee-2bf5-48e4-8920-b8339f50d563",
   "metadata": {},
   "outputs": [
    {
     "name": "stdout",
     "output_type": "stream",
     "text": [
      "                                  Hello, world!\n"
     ]
    }
   ],
   "source": [
    "def WriteCentered(text):\n",
    "    length = len(text)\n",
    "    if length > 80:\n",
    "        print(\"Text is too long to center!\")\n",
    "    else:\n",
    "        spaces = 40 - length//2\n",
    "        print(\" \" * spaces + text)\n",
    "        \n",
    "WriteCentered(\"Hello, world!\")"
   ]
  },
  {
   "cell_type": "markdown",
   "id": "de450adb-a2fc-4c8c-9f30-ef040690920c",
   "metadata": {},
   "source": [
    "# 3"
   ]
  },
  {
   "cell_type": "code",
   "execution_count": 2,
   "id": "56aa9400-bba6-4403-81ad-5c64ad6d17b0",
   "metadata": {},
   "outputs": [
    {
     "name": "stdout",
     "output_type": "stream",
     "text": [
      "**_*This text should be bold and italic!_***\n"
     ]
    }
   ],
   "source": [
    "def MarkdownFormat(text):\n",
    "    formatted_text = f\"**_*{text}_***\"\n",
    "    print(formatted_text)\n",
    "    \n",
    "MarkdownFormat(\"This text should be bold and italic!\")"
   ]
  },
  {
   "cell_type": "markdown",
   "id": "f7f5f3e2-88f2-475b-a3ff-ef99e56c4734",
   "metadata": {},
   "source": [
    "# 4"
   ]
  },
  {
   "cell_type": "code",
   "execution_count": 18,
   "id": "d1a5d669-4d80-49c8-9db0-6fc22a14808e",
   "metadata": {},
   "outputs": [
    {
     "name": "stdin",
     "output_type": "stream",
     "text": [
      "Enter the first number:  4\n",
      "Enter the second number:  12\n"
     ]
    },
    {
     "name": "stdout",
     "output_type": "stream",
     "text": [
      "12 is a multiple of 4\n"
     ]
    }
   ],
   "source": [
    "def check_multiples():\n",
    "    num1 = int(input(\"Enter the first number: \"))\n",
    "    num2 = int(input(\"Enter the second number: \"))\n",
    "    if num1 % num2 == 0:\n",
    "        print(f\"{num1} is a multiple of {num2}\")\n",
    "    elif num2 % num1 == 0:\n",
    "        print(f\"{num2} is a multiple of {num1}\")\n",
    "    else:\n",
    "        print(\"Neither number is a multiple of the other\")\n",
    "\n",
    "check_multiples()"
   ]
  },
  {
   "cell_type": "markdown",
   "id": "a74f4836-d947-409b-a13a-e3dee8efb1a0",
   "metadata": {},
   "source": [
    "# 5"
   ]
  },
  {
   "cell_type": "code",
   "execution_count": null,
   "id": "04f820aa-6d6b-4c71-a3c1-a72e04ab3422",
   "metadata": {},
   "outputs": [
    {
     "data": {
      "text/plain": [
       "23.362499999999997"
      ]
     },
     "execution_count": 29,
     "metadata": {},
     "output_type": "execute_result"
    }
   ],
   "source": [
    "def calculate_average_temperature(temperatures):\n",
    "    total = sum(temperatures)\n",
    "    average = total / len(temperatures)\n",
    "    return average\n",
    "\n",
    "calculate_average_temperature([21.5, 22.1, 23.2, 22.5, 21.7, 21.9, 23.8, 24.2, 25.3, 24.5, 23.9, 22.8, 22.1, 21.9, 22.3, 23.7, 25.1, 26.2, 25.9, 24.6, 23.7, 23.1, 22.8, 21.9])"
   ]
  },
  {
   "cell_type": "markdown",
   "id": "da7dacdb-46a9-479d-a2f9-ab940e674a7f",
   "metadata": {},
   "source": [
    "# 6"
   ]
  },
  {
   "cell_type": "code",
   "execution_count": 3,
   "id": "b79ccac1-6cf0-4f7d-a32f-8634aac22481",
   "metadata": {},
   "outputs": [
    {
     "data": {
      "text/plain": [
       "'H e l l o ,   w o r l d !'"
      ]
     },
     "execution_count": 3,
     "metadata": {},
     "output_type": "execute_result"
    }
   ],
   "source": [
    "def ConvertSpacing(text):\n",
    "    new_text = \" \".join(text)\n",
    "    return new_text\n",
    "\n",
    "ConvertSpacing(\"Hello, world!\")"
   ]
  },
  {
   "cell_type": "markdown",
   "id": "9c219625-07ad-4bc0-a7aa-9f96100b0fd4",
   "metadata": {},
   "source": [
    "# 7"
   ]
  },
  {
   "cell_type": "code",
   "execution_count": 4,
   "id": "0f5f0fdb-4ff7-4961-be7c-1960dce66082",
   "metadata": {},
   "outputs": [
    {
     "data": {
      "text/plain": [
       "(20, -3)"
      ]
     },
     "execution_count": 4,
     "metadata": {},
     "output_type": "execute_result"
    }
   ],
   "source": [
    "def calculateMaxMin(array):\n",
    "    max_value = max(array)\n",
    "    min_value = min(array)\n",
    "    return max_value, min_value\n",
    "\n",
    "calculateMaxMin([5, 10, -3, 20, 8, 2])"
   ]
  },
  {
   "cell_type": "markdown",
   "id": "09976cd5-d69b-441d-a884-d361c650b5b3",
   "metadata": {},
   "source": [
    "# 8"
   ]
  },
  {
   "cell_type": "code",
   "execution_count": 23,
   "id": "7f4829ee-86cd-4755-a8ea-904241945071",
   "metadata": {},
   "outputs": [
    {
     "data": {
      "text/plain": [
       "(78.53999999999999, 31.416)"
      ]
     },
     "execution_count": 23,
     "metadata": {},
     "output_type": "execute_result"
    }
   ],
   "source": [
    "def calculate_circle_properties(radius):\n",
    "    area = 3.1416 * radius ** 2\n",
    "    perimeter = 2 * 3.1416 * radius\n",
    "    return area, perimeter\n",
    "\n",
    "calculate_circle_properties(5)"
   ]
  },
  {
   "cell_type": "markdown",
   "id": "19cf1636-b9b6-48eb-8395-6444ae27316f",
   "metadata": {},
   "source": [
    "# 9"
   ]
  },
  {
   "cell_type": "code",
   "execution_count": 5,
   "id": "611869c8-8cae-4c72-b642-f4cad42294f9",
   "metadata": {},
   "outputs": [
    {
     "name": "stdin",
     "output_type": "stream",
     "text": [
      "Username:  aa\n",
      "Password:  bb\n"
     ]
    },
    {
     "name": "stdout",
     "output_type": "stream",
     "text": [
      "Login failed. Number of attempts: 1\n"
     ]
    },
    {
     "name": "stdin",
     "output_type": "stream",
     "text": [
      "Username:  user1\n",
      "Password:  asdasd\n"
     ]
    },
    {
     "name": "stdout",
     "output_type": "stream",
     "text": [
      "Login successful!\n"
     ]
    }
   ],
   "source": [
    "def Login(username, password, num_attempts):\n",
    "    if username == \"user1\" and password == \"asdasd\":\n",
    "        return True\n",
    "    else:\n",
    "        num_attempts += 1\n",
    "        return False, num_attempts\n",
    "\n",
    "attempts = 0\n",
    "while True:\n",
    "    username = input(\"Username: \")\n",
    "    password = input(\"Password: \")\n",
    "    result = Login(username, password, attempts)\n",
    "    if result == True:\n",
    "        print(\"Login successful!\")\n",
    "        break\n",
    "    else:\n",
    "        attempts = result[1]\n",
    "        print(f\"Login failed. Number of attempts: {attempts}\")"
   ]
  },
  {
   "cell_type": "markdown",
   "id": "1db6f856-5827-46b7-acb6-fe5ec3bd1c5c",
   "metadata": {},
   "source": [
    "# 10"
   ]
  },
  {
   "cell_type": "code",
   "execution_count": 6,
   "id": "eedf7657-1f7b-42cf-ae92-b8bfe69725bc",
   "metadata": {},
   "outputs": [
    {
     "data": {
      "text/plain": [
       "120"
      ]
     },
     "execution_count": 6,
     "metadata": {},
     "output_type": "execute_result"
    }
   ],
   "source": [
    "def fact(num):\n",
    "    factorial = 1    \n",
    "    if num < 0:    \n",
    "        print(\" Factorial does not exist for negative numbers\")    \n",
    "    elif num == 0:    \n",
    "        print(\"The factorial of 0 is 1\")    \n",
    "    else:    \n",
    "        for i in range(1,num + 1):    \n",
    "            factorial = factorial*i \n",
    "    return factorial\n",
    "\n",
    "fact(5)"
   ]
  },
  {
   "cell_type": "markdown",
   "id": "7ae5207a-94e6-4ee7-a3d9-79a96d1d0d65",
   "metadata": {},
   "source": [
    "# 11"
   ]
  },
  {
   "cell_type": "code",
   "execution_count": 24,
   "id": "8e511356-f9f5-4b7a-9ba6-46df456cf904",
   "metadata": {},
   "outputs": [
    {
     "data": {
      "text/plain": [
       "9045"
      ]
     },
     "execution_count": 24,
     "metadata": {},
     "output_type": "execute_result"
    }
   ],
   "source": [
    "def calculate_seconds(hours, minutes, seconds):\n",
    "    total_seconds = hours * 3600 + minutes * 60 + seconds\n",
    "    return total_seconds\n",
    "\n",
    "calculate_seconds(2,30,45)"
   ]
  },
  {
   "cell_type": "code",
   "execution_count": 27,
   "id": "5f5f42dc-4365-4c5a-a564-5c3ac81b4920",
   "metadata": {},
   "outputs": [
    {
     "data": {
      "text/plain": [
       "(2, 30, 45)"
      ]
     },
     "execution_count": 27,
     "metadata": {},
     "output_type": "execute_result"
    }
   ],
   "source": [
    "def calculate_time(seconds):\n",
    "    hours = seconds // 3600\n",
    "    minutes = (seconds % 3600) // 60\n",
    "    seconds = (seconds % 3600) % 60\n",
    "    return hours, minutes, seconds\n",
    "\n",
    "calculate_time(9045)"
   ]
  },
  {
   "cell_type": "markdown",
   "id": "0a812daa-d15a-4615-b3cf-0ceb8e215a07",
   "metadata": {},
   "source": [
    "# 12"
   ]
  },
  {
   "cell_type": "code",
   "execution_count": 28,
   "id": "f4f3adfb-e304-43ab-bba9-bfa0e7054917",
   "metadata": {},
   "outputs": [
    {
     "data": {
      "text/plain": [
       "(5, 4, 3, 2, 1)"
      ]
     },
     "execution_count": 28,
     "metadata": {},
     "output_type": "execute_result"
    }
   ],
   "source": [
    "def reverse_tuple(t):\n",
    "    reversed_tuple = tuple(reversed(t))\n",
    "    return reversed_tuple\n",
    "\n",
    "reverse_tuple((1,2,3,4,5))"
   ]
  },
  {
   "cell_type": "markdown",
   "id": "12db7dfc-38fc-4db3-b860-7569ec4e5f29",
   "metadata": {},
   "source": [
    "# 13"
   ]
  },
  {
   "cell_type": "code",
   "execution_count": 7,
   "id": "23345078-7780-4357-b318-396440612296",
   "metadata": {},
   "outputs": [
    {
     "data": {
      "text/plain": [
       "2.605171084697352"
      ]
     },
     "execution_count": 7,
     "metadata": {},
     "output_type": "execute_result"
    }
   ],
   "source": [
    "from functools import reduce\n",
    "import math\n",
    "\n",
    "def geometric_mean(numbers):\n",
    "    product = reduce(lambda x, y: x * y, numbers)\n",
    "    return math.pow(product, 1/len(numbers))\n",
    "\n",
    "geometric_mean([1, 2, 3, 4, 5])"
   ]
  }
 ],
 "metadata": {
  "kernelspec": {
   "display_name": "Python 3 (ipykernel)",
   "language": "python",
   "name": "python3"
  },
  "language_info": {
   "codemirror_mode": {
    "name": "ipython",
    "version": 3
   },
   "file_extension": ".py",
   "mimetype": "text/x-python",
   "name": "python",
   "nbconvert_exporter": "python",
   "pygments_lexer": "ipython3",
   "version": "3.9.13"
  }
 },
 "nbformat": 4,
 "nbformat_minor": 5
}
